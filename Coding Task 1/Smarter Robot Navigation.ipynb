{
  "nbformat": 4,
  "nbformat_minor": 0,
  "metadata": {
    "colab": {
      "provenance": []
    },
    "kernelspec": {
      "name": "python3",
      "display_name": "Python 3"
    },
    "language_info": {
      "name": "python"
    }
  },
  "cells": [
    {
      "cell_type": "markdown",
      "source": [
        "# **Coding Task 1 | Algorithms 2023 | EC31205**\n",
        "#### Submitted by Irsh Vijay | 21EC30025\n",
        "****\n",
        "### **Question 2: Smarter Robot Navigation Problem**\n",
        "Please run the following code cells in succession and provide input parameters in the fifth cell.\n",
        "\n",
        "The function is called in the sixth cell.\n",
        "\n",
        "**For Input:**\n",
        "```\n",
        "maze = [[1, 1, 1, 1, 1],\n",
        "[1, 0, 0, 0, 1],\n",
        "[1, 0, 1, 1, 1],\n",
        "[0, 1, 1, 1, 1]]\n",
        "\n",
        "start = (0, 0)\n",
        "\n",
        "end = (3, 2)\n",
        "\n",
        "all_direction = False\n",
        "```\n",
        "\n",
        "**Expected Output:**<br><br>\n",
        "![expected-maze-output.png](data:image/png;base64,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)\n",
        "\n",
        "(True,\n",
        " [(0, 0),\n",
        "  (0, 1),\n",
        "  (0, 2),\n",
        "  (0, 3),\n",
        "  (0, 4),\n",
        "  (1, 4),\n",
        "  (2, 4),\n",
        "  (3, 4),\n",
        "  (3, 3),\n",
        "  (3, 2)], 11.0)"
      ],
      "metadata": {
        "id": "v3xW1M3u8vtV"
      }
    },
    {
      "cell_type": "code",
      "source": [
        "import matplotlib.pyplot as plt\n",
        "\n",
        "# A plot maze function to visualise the path taken\n",
        "\n",
        "def plot_maze(maze, start = False, end = False, path = False):\n",
        "  rows = len(maze)\n",
        "  cols = len(maze[0])\n",
        "\n",
        "  grid = [[(255, 255, 255) if maze[row][col] == 1 else (0, 0, 0) for col in range(cols)] for row in range(rows)]\n",
        "\n",
        "  if start:\n",
        "    grid[start[0]][start[1]] = (160, 4, 252)\n",
        "  if end:\n",
        "    grid[end[0]][end[1]] = (160, 4, 4)\n",
        "  if path:\n",
        "    for path_row, path_col in path:\n",
        "      if(grid[path_row][path_col] != (160, 4, 252) and grid[path_row][path_col] != (160, 4, 4)):\n",
        "        grid[path_row][path_col] = (100, 255, 100)\n",
        "\n",
        "  plt.imshow(grid)\n",
        "  plt.xticks(range(cols))\n",
        "  plt.yticks(range(rows))\n",
        "  plt.show()"
      ],
      "metadata": {
        "id": "p1JJFgJK3c6b"
      },
      "execution_count": 1,
      "outputs": []
    },
    {
      "cell_type": "code",
      "source": [
        "def check_valid_move(maze, row, col, all_direction):\n",
        "  return 0 <= row < len(maze) and 0 <= col < len(maze[0]) and maze[row][col] == 1"
      ],
      "metadata": {
        "id": "8iIFcPHrw8I7"
      },
      "execution_count": 2,
      "outputs": []
    },
    {
      "cell_type": "code",
      "source": [
        "import math\n",
        "\n",
        "def directional_cost(prev_direction, direction):\n",
        "    # Calculate the directional cost based on the change in direction\n",
        "    ang_prev =  math.atan2(prev_direction[1], prev_direction[0])/math.pi*180\n",
        "    ang_new =  math.atan2(direction[1], direction[0])/math.pi*180\n",
        "    if ang_prev == ang_new:\n",
        "        return 0.0  # No turn\n",
        "    elif abs(ang_prev - ang_new)==45 or abs(ang_prev - ang_new)==135:\n",
        "        return 0.5  # 45-degree turn\n",
        "    else:\n",
        "        return 1.0  # 90-degree turn"
      ],
      "metadata": {
        "id": "kDegEtiYyATr"
      },
      "execution_count": 3,
      "outputs": []
    },
    {
      "cell_type": "code",
      "source": [
        "import numpy as np\n",
        "import heapq\n",
        "\n",
        "def smarter_robot_navigation(maze, start, end, all_direction):\n",
        "    allowed_directions = [(1, 0), (-1, 0), (0, 1), (0, -1)]\n",
        "    if all_direction:\n",
        "        allowed_directions.extend([(1, 1), (-1, 1), (1, -1), (-1, -1)])\n",
        "\n",
        "    visited = set()\n",
        "    cost_map = {}\n",
        "    queue = [(0, start, [], (None, None))]\n",
        "\n",
        "    while queue:\n",
        "        current_cost, (row, col), path, prev_direction = heapq.heappop(queue)\n",
        "\n",
        "        if (row, col) == end:\n",
        "            plot_maze(maze, start, end, path + [(row, col)])\n",
        "            total_cost = calculate_total_cost(path)\n",
        "            return True, path + [(row, col)], total_cost\n",
        "\n",
        "        if (row, col) in visited:\n",
        "            continue\n",
        "\n",
        "        visited.add((row, col))\n",
        "\n",
        "        for dr, dc in allowed_directions:\n",
        "            new_row, new_col = row + dr, col + dc\n",
        "            new_direction = (dr, dc)\n",
        "\n",
        "            if check_valid_move(maze, new_row, new_col, all_direction):\n",
        "                if prev_direction[0] == None:\n",
        "                    step_cost = 0.0\n",
        "                else:\n",
        "                    step_cost = directional_cost(prev_direction, new_direction)\n",
        "                new_cost = current_cost + step_cost\n",
        "                heapq.heappush(queue, (new_cost, (new_row, new_col), path + [(row, col)], new_direction))\n",
        "    return False, [], 'inf'\n",
        "\n",
        "def calculate_total_cost(path):\n",
        "    total_cost = len(path)\n",
        "    for i in range(len(path) - 2):\n",
        "        intermediate_cost = directional_cost(\n",
        "            np.subtract(path[i], path[i + 1]), np.subtract(path[i + 1], path[i + 2])\n",
        "        )\n",
        "        total_cost += intermediate_cost\n",
        "    return total_cost"
      ],
      "metadata": {
        "id": "6j8MZnI_1Kmo"
      },
      "execution_count": 26,
      "outputs": []
    },
    {
      "cell_type": "code",
      "source": [
        "maze = [[1, 0, 1, 1, 0, 0, 0, 1, 1, 1, 1, 0, 1, 1, 1, 1, 1, 1, 1, 0, 1, 1, 1, 1, 1, 0, 1, 0, 1, 1],\n",
        "[1, 0, 0, 1, 1, 1, 1, 1, 0, 0, 1, 1, 0, 0, 0, 1, 0, 0, 1, 0, 0, 1, 0, 0, 1, 0, 1, 1, 1, 0],\n",
        "[1, 1, 0, 1, 0, 0, 0, 0, 0, 0, 0, 1, 1, 1, 0, 1, 0, 0, 1, 0, 0, 1, 0, 1, 1, 0, 1, 0, 1, 0],\n",
        "[0, 1, 0, 1, 1, 1, 0, 1, 1, 0, 1, 1, 0, 1, 0, 1, 1, 0, 1, 0, 1, 1, 0, 1, 0, 0, 1, 0, 1, 1],\n",
        "[1, 1, 0, 0, 0, 1, 0, 1, 0, 0, 1, 0, 0, 1, 0, 0, 1, 0, 1, 1, 1, 0, 0, 1, 1, 0, 1, 0, 0, 0],\n",
        "[1, 0, 1, 1, 1, 1, 0, 1, 1, 1, 1, 1, 0, 1, 0, 0, 1, 0, 0, 0, 1, 1, 1, 0, 1, 0, 1, 1, 1, 0],\n",
        "[1, 0, 1, 0, 0, 0, 0, 0, 0, 0, 0, 0, 0, 1, 1, 0, 1, 1, 1, 0, 0, 0, 0, 0, 1, 0, 0, 0, 1, 1],\n",
        "[1, 1, 1, 0, 0, 1, 1, 1, 1, 1, 1, 1, 1, 0, 1, 0, 0, 0, 1, 1, 1, 1, 1, 0, 1, 1, 1, 0, 0, 1],\n",
        "[0, 0, 0, 1, 1, 1, 0, 0, 0, 0, 0, 0, 0, 0, 1, 1, 1, 1, 0, 0, 0, 0, 1, 0, 0, 0, 1, 1, 0, 1],\n",
        "[1, 1, 0, 1, 0, 1, 0, 1, 0, 1, 1, 1, 1, 1, 0, 0, 0, 1, 0, 1, 1, 1, 1, 0, 1, 0, 0, 1, 0, 1],\n",
        "[0, 1, 0, 1, 0, 1, 1, 1, 0, 1, 0, 1, 0, 0, 0, 0, 1, 1, 0, 0, 0, 1, 0, 0, 1, 1, 0, 1, 0, 1],\n",
        "[1, 1, 0, 1, 0, 0, 0, 0, 1, 1, 0, 1, 0, 1, 1, 1, 1, 0, 0, 0, 1, 1, 0, 0, 1, 0, 0, 1, 1, 1],\n",
        "[1, 0, 0, 1, 0, 0, 1, 1, 1, 0, 0, 1, 1, 1, 0, 0, 0, 0, 1, 1, 1, 0, 1, 1, 1, 0, 0, 0, 1, 0],\n",
        "[1, 1, 0, 1, 0, 1, 1, 0, 0, 0, 0, 0, 0, 0, 0, 0, 1, 1, 1, 0, 0, 0, 0, 0, 1, 0, 1, 1, 1, 0],\n",
        "[0, 1, 0, 1, 0, 1, 0, 1, 1, 1, 1, 1, 1, 1, 0, 1, 1, 0, 1, 1, 0, 1, 1, 1, 1, 0, 1, 0, 0, 1],\n",
        "[1, 1, 1, 1, 0, 1, 0, 0, 0, 1, 0, 0, 0, 1, 0, 0, 0, 0, 0, 1, 0, 0, 0, 1, 0, 0, 1, 0, 0, 1],\n",
        "[1, 0, 1, 0, 0, 1, 1, 1, 0, 1, 1, 1, 0, 1, 1, 1, 1, 1, 0, 1, 0, 1, 1, 1, 0, 1, 1, 0, 0, 1],\n",
        "[0, 0, 1, 1, 1, 0, 0, 1, 1, 0, 0, 1, 0, 0, 0, 0, 0, 1, 1, 1, 0, 0, 1, 0, 0, 1, 0, 0, 1, 1],\n",
        "[1, 1, 1, 0, 1, 0, 0, 0, 1, 1, 0, 1, 1, 0, 1, 1, 0, 0, 0, 0, 1, 1, 1, 1, 1, 1, 1, 1, 1, 0],\n",
        "[1, 0, 0, 0, 1, 0, 0, 0, 0, 1, 0, 0, 1, 1, 1, 0, 0, 1, 0, 0, 1, 0, 0, 0, 0, 0, 0, 0, 1, 1],\n",
        "[1, 1, 1, 0, 0, 1, 1, 1, 0, 1, 1, 1, 0, 0, 1, 1, 0, 1, 1, 1, 1, 0, 1, 1, 1, 1, 0, 0, 0, 1],\n",
        "[1, 0, 1, 0, 0, 1, 0, 1, 0, 0, 0, 1, 0, 1, 0, 1, 1, 0, 0, 0, 0, 1, 1, 0, 0, 1, 0, 1, 1, 1],\n",
        "[1, 0, 1, 0, 1, 1, 0, 1, 1, 1, 0, 1, 0, 1, 0, 0, 1, 1, 0, 1, 1, 1, 0, 0, 0, 1, 0, 1, 0, 0],\n",
        "[1, 0, 1, 1, 1, 0, 1, 1, 0, 0, 0, 1, 0, 1, 0, 0, 0, 1, 1, 1, 0, 1, 1, 0, 1, 1, 0, 1, 0, 1],\n",
        "[1, 0, 0, 0, 0, 0, 1, 0, 1, 1, 1, 1, 0, 1, 0, 0, 0, 0, 0, 0, 0, 0, 1, 0, 1, 0, 0, 1, 1, 1],\n",
        "[1, 0, 1, 0, 1, 1, 1, 0, 0, 0, 1, 0, 0, 1, 1, 1, 1, 0, 1, 1, 1, 0, 1, 0, 1, 1, 0, 0, 0, 1],\n",
        "[1, 1, 1, 0, 1, 0, 1, 1, 0, 1, 1, 0, 0, 1, 0, 0, 1, 1, 1, 0, 1, 1, 0, 0, 0, 1, 1, 1, 0, 1],\n",
        "[0, 1, 0, 0, 1, 0, 0, 0, 0, 1, 0, 1, 1, 1, 1, 1, 0, 0, 0, 0, 0, 1, 1, 1, 0, 1, 0, 1, 0, 1],\n",
        "[1, 1, 1, 0, 1, 1, 0, 1, 1, 1, 0, 1, 0, 0, 0, 0, 0, 1, 1, 1, 0, 0, 0, 1, 0, 0, 0, 1, 0, 1],\n",
        "[1, 0, 1, 0, 0, 1, 1, 1, 0, 1, 1, 1, 0, 1, 1, 1, 1, 1, 0, 1, 1, 1, 1, 1, 1, 1, 1, 1, 0, 1]]\n",
        "\n",
        "start = (0, 0)\n",
        "\n",
        "end = (29, 29)\n",
        "\n",
        "all_direction = True"
      ],
      "metadata": {
        "id": "1tqV5rwA21tR"
      },
      "execution_count": 33,
      "outputs": []
    },
    {
      "cell_type": "code",
      "source": [
        "smarter_robot_navigation(maze, start, end, all_direction)"
      ],
      "metadata": {
        "colab": {
          "base_uri": "https://localhost:8080/",
          "height": 1000
        },
        "id": "nUAvJv0p3wqe",
        "outputId": "7a949aec-8c9b-4473-804b-5b35d178084c"
      },
      "execution_count": 34,
      "outputs": [
        {
          "output_type": "display_data",
          "data": {
            "text/plain": [
              "<Figure size 640x480 with 1 Axes>"
            ],
            "image/png": "[encoded data removed]"
          },
          "metadata": {}
        },
        {
          "output_type": "execute_result",
          "data": {
            "text/plain": [
              "(True,\n",
              " [(0, 0),\n",
              "  (1, 0),\n",
              "  (2, 0),\n",
              "  (3, 1),\n",
              "  (4, 1),\n",
              "  (5, 2),\n",
              "  (6, 2),\n",
              "  (7, 2),\n",
              "  (8, 3),\n",
              "  (8, 4),\n",
              "  (9, 5),\n",
              "  (10, 6),\n",
              "  (10, 7),\n",
              "  (11, 8),\n",
              "  (12, 7),\n",
              "  (13, 6),\n",
              "  (14, 7),\n",
              "  (14, 8),\n",
              "  (15, 9),\n",
              "  (16, 10),\n",
              "  (17, 11),\n",
              "  (18, 12),\n",
              "  (19, 13),\n",
              "  (20, 14),\n",
              "  (21, 15),\n",
              "  (21, 16),\n",
              "  (20, 17),\n",
              "  (20, 18),\n",
              "  (20, 19),\n",
              "  (19, 20),\n",
              "  (18, 21),\n",
              "  (18, 22),\n",
              "  (18, 23),\n",
              "  (18, 24),\n",
              "  (18, 25),\n",
              "  (18, 26),\n",
              "  (18, 27),\n",
              "  (19, 28),\n",
              "  (20, 29),\n",
              "  (21, 28),\n",
              "  (22, 27),\n",
              "  (23, 27),\n",
              "  (24, 28),\n",
              "  (25, 29),\n",
              "  (26, 29),\n",
              "  (27, 29),\n",
              "  (28, 29),\n",
              "  (29, 29)],\n",
              " 63.5)"
            ]
          },
          "metadata": {},
          "execution_count": 34
        }
      ]
    },
    {
      "cell_type": "code",
      "source": [],
      "metadata": {
        "id": "-yt36qrCxNVj"
      },
      "execution_count": 88,
      "outputs": []
    }
  ]
}
