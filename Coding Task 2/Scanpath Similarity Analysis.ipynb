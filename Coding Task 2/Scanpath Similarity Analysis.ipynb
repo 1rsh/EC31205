{
  "cells": [
    {
      "cell_type": "markdown",
      "metadata": {
        "id": "py2-yyXPnPTI"
      },
      "source": [
        "# **Coding Task 2 | Algorithms 2023 | EC31205**\n",
        "#### Submitted by Irsh Vijay | 21EC30025\n",
        "****\n",
        "### **Part A: Find the Edit Distance Matrix**\n"
      ]
    },
    {
      "cell_type": "code",
      "execution_count": 1,
      "metadata": {
        "id": "lC3jQ33Md1Ni"
      },
      "outputs": [],
      "source": [
        "from utils import load_dataset, plot_Graph\n",
        "\n",
        "scanpath_dataset = load_dataset(filename = \"scanpath_dataset.pickle\")"
      ]
    },
    {
      "cell_type": "code",
      "execution_count": 2,
      "metadata": {
        "id": "FbZLDemgel9-"
      },
      "outputs": [],
      "source": [
        "h = scanpath_dataset[\"height\"]\n",
        "w = scanpath_dataset[\"width\"]\n",
        "total = scanpath_dataset[\"total_subjects\"]"
      ]
    },
    {
      "cell_type": "code",
      "execution_count": 14,
      "metadata": {
        "id": "oxRK7yk6ezT7"
      },
      "outputs": [],
      "source": [
        "def reencode_scanpath(scanpath, grid_size):\n",
        "  reencoded_array = []\n",
        "  grid_size_x = w//grid_size\n",
        "  grid_size_y = h//grid_size\n",
        "  for point_x, point_y in scanpath:\n",
        "    reencoded_array.append(int(point_x/w*grid_size_x)+int(point_y/h*grid_size_y)*(grid_size_x))\n",
        "  return reencoded_array"
      ]
    },
    {
      "cell_type": "code",
      "execution_count": 15,
      "metadata": {
        "id": "Zut9fAH5gpfD"
      },
      "outputs": [],
      "source": [
        "def get_all_pair_edit_distances(scanpath_dataset, grid_size):\n",
        "  distance_matrix = []\n",
        "  for rows in range(total):\n",
        "    distance_matrix.append([0]*total)\n",
        "\n",
        "  #Your code here to fill distance_matrix\n",
        "\n",
        "  for i in range(total):\n",
        "    for j in range(i, total):\n",
        "      scanpath_i = reencode_scanpath(scanpath_dataset[i], grid_size)\n",
        "      scanpath_j = reencode_scanpath(scanpath_dataset[j], grid_size)\n",
        "\n",
        "      def get_edit_distance(scanpath1, scanpath2):\n",
        "        len1 = len(scanpath1)\n",
        "        len2 = len(scanpath2)\n",
        "\n",
        "        dp = [[0] * (len2 + 1) for _ in range(len1 + 1)]\n",
        "\n",
        "        for i in range(len1 + 1):\n",
        "          dp[i][0] = i\n",
        "        for j in range(len2 + 1):\n",
        "          dp[0][j] = j\n",
        "\n",
        "        for i in range(1, len1 + 1):\n",
        "          for j in range(1, len2 + 1):\n",
        "            cost = 0 if scanpath1[i - 1] == scanpath2[j - 1] else 1\n",
        "            dp[i][j] = min(\n",
        "                dp[i - 1][j] + 1,\n",
        "                dp[i][j - 1] + 1,\n",
        "                dp[i - 1][j - 1] + cost\n",
        "            )\n",
        "\n",
        "        return dp[len1][len2]\n",
        "\n",
        "      distance = get_edit_distance(scanpath_i, scanpath_j)\n",
        "\n",
        "      distance_matrix[i][j] = distance\n",
        "      distance_matrix[j][i] = distance\n",
        "\n",
        "  # Your code ends here\n",
        "  return distance_matrix"
      ]
    },
    {
      "cell_type": "code",
      "execution_count": 64,
      "metadata": {
        "cellView": "form",
        "id": "uUIOApVEiCv1"
      },
      "outputs": [],
      "source": [
        "# Change grid_size here\n",
        "grid_size = 32 # @param {type:\"slider\", min:1, max:64, step:1}\n",
        "edit_distance_matrix = get_all_pair_edit_distances(scanpath_dataset, grid_size)"
      ]
    },
    {
      "cell_type": "markdown",
      "metadata": {
        "id": "yAnuu7Q1nj4Q"
      },
      "source": [
        "****\n",
        "### **Part B: Use Prims MST Algorithm**\n",
        "****"
      ]
    },
    {
      "cell_type": "code",
      "execution_count": 65,
      "metadata": {
        "id": "_PSGepJniOHW"
      },
      "outputs": [],
      "source": [
        "def prim_mst(distance_matrix):\n",
        "  n = len(distance_matrix)\n",
        "  visited = [False] * n\n",
        "  mst = []\n",
        "\n",
        "  visited[0] = True\n",
        "\n",
        "  while len(mst) < n - 1:\n",
        "    min_edge = None\n",
        "    min_weight = float('inf')\n",
        "\n",
        "    for u in range(n):\n",
        "      if visited[u]:\n",
        "        for v in range(n):\n",
        "          if not visited[v] and distance_matrix[u][v] < min_weight:\n",
        "            min_edge = (u, v, distance_matrix[u][v])\n",
        "            min_weight = distance_matrix[u][v]\n",
        "\n",
        "    u, v, weight = min_edge\n",
        "    mst.append((u, v, weight))\n",
        "    visited[v] = True\n",
        "\n",
        "  return mst"
      ]
    },
    {
      "cell_type": "code",
      "execution_count": 66,
      "metadata": {
        "id": "r2A3V2WEqA4j"
      },
      "outputs": [],
      "source": [
        "mst_edge_list = prim_mst(edit_distance_matrix)"
      ]
    },
    {
      "cell_type": "code",
      "execution_count": 67,
      "metadata": {
        "colab": {
          "base_uri": "https://localhost:8080/"
        },
        "id": "LoRZ7ABljj8t",
        "outputId": "2bd18b5b-6a15-4833-ecf2-f084c1dd10a8"
      },
      "outputs": [
        {
          "name": "stdout",
          "output_type": "stream",
          "text": [
            "Length of MST Edge List:  22\n",
            "Largest Edge:  23\n"
          ]
        }
      ],
      "source": [
        "mst_edge_list_temp = [edge_info for edge_info in mst_edge_list]\n",
        "mst_edge_list_temp.sort(key=lambda edge: edge[2])\n",
        "print(\"Length of MST Edge List: \", len(mst_edge_list_temp))\n",
        "largest_edge = mst_edge_list_temp.pop()\n",
        "print(\"Largest Edge: \", largest_edge[2])\n",
        "\n",
        "_ = mst_edge_list.pop(mst_edge_list.index(largest_edge))"
      ]
    },
    {
      "cell_type": "code",
      "execution_count": 68,
      "metadata": {
        "id": "SRQnlt9yjmRQ"
      },
      "outputs": [],
      "source": [
        "def label_components(mst_edge_list, n):\n",
        "  graph = [[] for _ in range(n)]\n",
        "  for u, v, _ in mst_edge_list:\n",
        "    graph[u].append(v)\n",
        "    graph[v].append(u)\n",
        "\n",
        "  node_labels = [None] * n\n",
        "\n",
        "  def bfs(node, label):\n",
        "    queue = [node]\n",
        "    while queue:\n",
        "      current_node = queue.pop(0)\n",
        "      node_labels[current_node] = label\n",
        "      for neighbor in graph[current_node]:\n",
        "        if node_labels[neighbor] is None:\n",
        "          queue.append(neighbor)\n",
        "\n",
        "  for i in range(n):\n",
        "    if node_labels[i] is None:\n",
        "      bfs(i, 'blue' if i == 0 else 'red')\n",
        "\n",
        "  return node_labels\n",
        "\n",
        "n = len(edit_distance_matrix)\n",
        "node_labels = label_components(mst_edge_list, n)\n"
      ]
    },
    {
      "cell_type": "code",
      "execution_count": 69,
      "metadata": {
        "colab": {
          "base_uri": "https://localhost:8080/",
          "height": 533
        },
        "id": "wPV-_hcUjyZ-",
        "outputId": "cfa3b872-158c-4142-8e88-d51d62e91c6b"
      },
      "outputs": [
        {
          "name": "stdout",
          "output_type": "stream",
          "text": [
            "Total Nodes in graph = 23\n"
          ]
        },
        {
          "data": {
            "image/png": "[encoded data removed]",
            "text/plain": [
              "<Figure size 432x288 with 1 Axes>"
            ]
          },
          "metadata": {},
          "output_type": "display_data"
        }
      ],
      "source": [
        "plot_Graph(mst_edge_list, node_labels)"
      ]
    }
  ],
  "metadata": {
    "colab": {
      "provenance": []
    },
    "kernelspec": {
      "display_name": "Python 3",
      "name": "python3"
    },
    "language_info": {
      "codemirror_mode": {
        "name": "ipython",
        "version": 3
      },
      "file_extension": ".py",
      "mimetype": "text/x-python",
      "name": "python",
      "nbconvert_exporter": "python",
      "pygments_lexer": "ipython3",
      "version": "3.8.12"
    }
  },
  "nbformat": 4,
  "nbformat_minor": 0
}
